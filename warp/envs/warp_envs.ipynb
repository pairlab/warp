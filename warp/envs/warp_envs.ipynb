{
 "cells": [
  {
   "cell_type": "code",
   "execution_count": 1,
   "id": "5e7c1170-b261-40c6-8780-8994a887bc26",
   "metadata": {},
   "outputs": [],
   "source": [
    "# %load_ext autoreload\n",
    "# %autoreload 2\n",
    "\n",
    "DEBUG = False"
   ]
  },
  {
   "cell_type": "code",
   "execution_count": 2,
   "id": "1fd22237-39e1-49be-935c-c3ed815ff047",
   "metadata": {},
   "outputs": [
    {
     "name": "stdout",
     "output_type": "stream",
     "text": [
      "Warp 0.8.2 initialized:\n",
      "   CUDA Toolkit: 12.0, Driver: 12.1\n",
      "   Devices:\n",
      "     \"cpu\"    | x86_64\n",
      "     \"cuda:0\" | NVIDIA GeForce RTX 3090 (sm_86)\n",
      "   Kernel cache: /home/ksrini/.cache/warp/0.8.2\n",
      "Using cached kernels\n"
     ]
    }
   ],
   "source": [
    "%matplotlib widget\n",
    "import matplotlib.pyplot as plt\n",
    "\n",
    "import torch\n",
    "import numpy as np\n",
    "\n",
    "import warp as wp\n",
    "import time\n",
    "import seaborn as sns\n",
    "import imageio\n",
    "\n",
    "if DEBUG:\n",
    "    wp.config.mode = \"debug\"\n",
    "    wp.config.verify_cuda = True\n",
    "    # wp.config.print_launches = True\n",
    "\n",
    "wp.init()\n",
    "\n",
    "from warp.envs.environment import RenderMode\n",
    "from warp.envs.cartpole_swing_up import CartPoleSwingUpEnv\n",
    "from shac.envs.cartpole_swing_up import CartPoleSwingUpEnv as DFCartPoleSwingUpEnv\n",
    "from warp.envs.hopper import HopperEnv\n",
    "from shac.envs.hopper import HopperEnv as DFHopperEnv"
   ]
  },
  {
   "cell_type": "raw",
   "id": "d4e3d792-ff41-43fd-be0a-858fd5b4622c",
   "metadata": {},
   "source": [
    "plt.imshow(env.render(\"rgb_array\"))"
   ]
  },
  {
   "cell_type": "code",
   "execution_count": null,
   "id": "0a14b5e6-b17e-4d33-ab91-b4ec7e9be71d",
   "metadata": {},
   "outputs": [],
   "source": [
    "env.renderer.move_camera()"
   ]
  },
  {
   "cell_type": "code",
   "execution_count": null,
   "id": "405ce2f9-fa47-4991-8ef4-2246d1f2dd70",
   "metadata": {},
   "outputs": [],
   "source": [
    "env.step("
   ]
  },
  {
   "cell_type": "code",
   "execution_count": null,
   "id": "30641856-fd2a-471b-90f8-c651383311e9",
   "metadata": {},
   "outputs": [],
   "source": [
    "env = HopperEnv(num_envs = 2, render=True)"
   ]
  },
  {
   "cell_type": "code",
   "execution_count": null,
   "id": "fcad143e-abfc-48de-9f37-3ac4b105eb9a",
   "metadata": {},
   "outputs": [],
   "source": [
    "env_count = 2\n",
    "env_times = []\n",
    "env_size = []\n",
    "\n",
    "for i in range(15):\n",
    "\n",
    "    robot = HopperEnv(num_envs=env_count, render=False, requires_grad=True)\n",
    "    steps_per_second = robot.run()\n",
    "\n",
    "    env_size.append(env_count)\n",
    "    env_times.append(steps_per_second)\n",
    "\n",
    "    env_count *= 2\n",
    "\n",
    "# dump times\n",
    "for i in range(len(env_times)):\n",
    "    print(f\"envs: {env_size[i]} steps/second: {env_times[i]}\")\n",
    "\n",
    "plt.figure(1)\n",
    "plt.plot(env_size, env_times)\n",
    "plt.xscale('log')\n",
    "plt.xlabel(\"Number of Envs\")\n",
    "plt.yscale('log')\n",
    "plt.ylabel(\"Steps/Second\")\n",
    "plt.show()"
   ]
  },
  {
   "cell_type": "code",
   "execution_count": null,
   "id": "408c71cb-3fdb-40aa-a1d4-ab4c1ccc9fcc",
   "metadata": {},
   "outputs": [],
   "source": [
    "env.visualize=True\n",
    "env.initialize_renderer()"
   ]
  },
  {
   "cell_type": "code",
   "execution_count": null,
   "id": "7a54fd97-eb3e-4871-99fa-791fbb68bd6a",
   "metadata": {},
   "outputs": [],
   "source": [
    "env.reset()\n",
    "ac = torch.tensor([env.action_space.sample() for _ in range(env.num_envs)],\n",
    "                  device=env.device)\n",
    "obs, r, d, i = env.step(ac)"
   ]
  },
  {
   "cell_type": "code",
   "execution_count": null,
   "id": "df78d683-123c-41cf-98f7-ca43a4c360dd",
   "metadata": {
    "tags": []
   },
   "outputs": [],
   "source": [
    "%time\n",
    "# if env.render_mode == RenderMode.TINY:\n",
    "#     writer = imageio.get_writer(\"test_render.mp4\", fps=30)\n",
    "# else:\n",
    "#     writer = None\n",
    "env.reset()\n",
    "for _ in range(1000):\n",
    "    ac = torch.tensor([env.action_space.sample()*0 for _ in range(env.num_envs)],\n",
    "                      device=env.device)\n",
    "    obs, r, d, i = env.step(ac)\n",
    "    env.render()\n",
    "    # img = env.render(mode=\"rgb_array\")\n",
    "    # if writer: writer.append_data(img)\n",
    "    if d.sum() > 0: break\n",
    "# if writer: writer.close()"
   ]
  },
  {
   "cell_type": "code",
   "execution_count": null,
   "id": "773d7e4b-035b-4816-9c0a-e99687eb1c6d",
   "metadata": {},
   "outputs": [],
   "source": [
    "env = HopperEnv(num_envs=2, render=True)"
   ]
  },
  {
   "cell_type": "code",
   "execution_count": null,
   "id": "19cb5a41-6ee7-432c-b420-2e45bdfb58ef",
   "metadata": {},
   "outputs": [],
   "source": [
    "obs = env.reset()"
   ]
  },
  {
   "cell_type": "code",
   "execution_count": null,
   "id": "3d23c2f0-a274-4950-81df-de18915f48f0",
   "metadata": {},
   "outputs": [],
   "source": [
    "env.step(torch.zeros((env.num_envs, env.num_acts), device=env.device))\n",
    "img = env.render(mode=\"rgb_array\")\n",
    "\n",
    "plt.close('all')\n",
    "plt.imshow(img)"
   ]
  },
  {
   "cell_type": "code",
   "execution_count": null,
   "id": "03330007-f880-4905-82c2-48e2055d9477",
   "metadata": {},
   "outputs": [],
   "source": [
    "env.state_0.body_q.numpy()"
   ]
  },
  {
   "cell_type": "markdown",
   "id": "dc2f4fa5-0bd2-413b-90d3-444a266c353f",
   "metadata": {},
   "source": [
    "# Randomized Sampling"
   ]
  },
  {
   "cell_type": "code",
   "execution_count": null,
   "id": "a536e27d-24db-40b6-8417-dfddcf97bfa6",
   "metadata": {},
   "outputs": [],
   "source": [
    "from shac.algorithms.mpc2 import Policy, Planner\n",
    "from tqdm.notebook import trange"
   ]
  },
  {
   "cell_type": "code",
   "execution_count": null,
   "id": "29614ab7-19ae-40c7-8ac9-ae4a2d15f321",
   "metadata": {},
   "outputs": [],
   "source": [
    "env = CartPoleSwingUpEnv(num_envs=100, episode_length=240)\n",
    "eval_env = CartPoleSwingUpEnv(num_envs=1, episode_length=240, render=True)\n",
    "_, _ = env.reset(), eval_env.reset()"
   ]
  },
  {
   "cell_type": "code",
   "execution_count": null,
   "id": "560dee65-c2a7-497a-a2b5-09d5570b4c63",
   "metadata": {},
   "outputs": [],
   "source": [
    "env.joint_q.shape, eval_env.joint_q.shape"
   ]
  },
  {
   "cell_type": "code",
   "execution_count": null,
   "id": "ee581310-2191-41c0-a8dd-6c756a60969a",
   "metadata": {},
   "outputs": [],
   "source": [
    "p = Policy(num_actions=env.num_actions, horizon=0.5, max_steps=10)\n",
    "plan = Planner(p, env)\n",
    "eval_plan = Planner(p, eval_env)\n",
    "\n",
    "eval_obs, eval_reward = [], []\n",
    "\n",
    "for step in trange(240):\n",
    "    plan.optimize_policy()\n",
    "    obs, reward = eval_plan.one_step(step, p)\n",
    "    eval_obs.append(obs)\n",
    "    eval_reward.append(reward)\n",
    "    plan.copy_eval(eval_plan)"
   ]
  },
  {
   "cell_type": "code",
   "execution_count": null,
   "id": "372e0bfa-a0ab-43da-bbe1-2c07cb4a08ec",
   "metadata": {},
   "outputs": [],
   "source": [
    "plt.close(\"all\")\n",
    "plt.plot([r.detach().cpu().numpy() for r in eval_reward])\n",
    "plt.show()"
   ]
  },
  {
   "cell_type": "code",
   "execution_count": null,
   "id": "0b1a2ef8-ebbd-4e7f-b4e1-8ccd5dbf5d58",
   "metadata": {},
   "outputs": [],
   "source": [
    "env.num_envs"
   ]
  },
  {
   "cell_type": "code",
   "execution_count": null,
   "id": "2137ad34-ef25-4e5c-84a6-85e5ed065b37",
   "metadata": {},
   "outputs": [],
   "source": [
    "eval_env = CartPoleSwingUpEnv(num_envs=1, episode_length=30, render=True, stage_path=\"test-rs-planner-cartpole\")\n",
    "eval_plan = Planner(p, eval_env)"
   ]
  },
  {
   "cell_type": "code",
   "execution_count": null,
   "id": "42a79668-040b-4cbd-8e7e-99f846bc4ecd",
   "metadata": {},
   "outputs": [],
   "source": [
    "eval_plan.rollout(render=True)"
   ]
  },
  {
   "cell_type": "code",
   "execution_count": null,
   "id": "d258559f-2a61-46d3-b20b-518de07c4eb5",
   "metadata": {},
   "outputs": [],
   "source": [
    "eval_env.calculateObservations()"
   ]
  },
  {
   "cell_type": "code",
   "execution_count": null,
   "id": "119a2396-06bd-4536-ab85-419627324077",
   "metadata": {},
   "outputs": [],
   "source": [
    "eval_env.rew_buf"
   ]
  },
  {
   "cell_type": "markdown",
   "id": "1f91af51-97c6-4fd7-89bc-a1186f53173e",
   "metadata": {},
   "source": [
    "# Use Pre-trained SHAC policy"
   ]
  },
  {
   "cell_type": "code",
   "execution_count": 4,
   "id": "2eab61c0-13f0-48d0-8339-1d7f7b9ddaf2",
   "metadata": {},
   "outputs": [],
   "source": [
    "from warp.envs.environment import RenderMode\n",
    "from warp.envs.cartpole_swing_up import CartPoleSwingUpEnv\n",
    "CartPoleSwingUpEnv.render_mode = RenderMode.TINY\n",
    "from shac.algorithms.shac import SHAC\n",
    "import yaml"
   ]
  },
  {
   "cell_type": "code",
   "execution_count": 5,
   "id": "43d03dfd-bee0-491f-9b51-61042632db36",
   "metadata": {},
   "outputs": [],
   "source": [
    "from gym.wrappers import Monitor"
   ]
  },
  {
   "cell_type": "code",
   "execution_count": 6,
   "id": "e3f803cf-0688-442f-b1db-4d3a4c385867",
   "metadata": {},
   "outputs": [],
   "source": [
    "load_path = \"../../../shac/scripts/outputs/2023-04-11/23-22-50/logs/tmp/shac/04-11-2023-23-22-50\"\n",
    "\n",
    "config_file = f\"{load_path}/cfg.yaml\"\n",
    "ckpt_path = f\"{load_path}/best_policy.pt\""
   ]
  },
  {
   "cell_type": "code",
   "execution_count": 7,
   "id": "baaba2bd-8106-4ec8-8c00-2c9b3fe4958a",
   "metadata": {},
   "outputs": [],
   "source": [
    "cfg_train = yaml.load(open(config_file, \"r\"), Loader=yaml.Loader)\n",
    "cfg_train['params']['diff_env']['name'] = \"CartPoleSwingUpWarpEnv\"\n",
    "cfg_train['params']['diff_env']['render'] = True\n",
    "cfg_train['params']['diff_env']['no_grad'] = True\n",
    "cfg_train['params']['diff_env']['stochastic_init'] = True\n",
    "cfg_train['params']['config']['num_actors'] = 1\n"
   ]
  },
  {
   "cell_type": "code",
   "execution_count": 8,
   "id": "e3c7497f-b250-4743-ab38-d4157a93a655",
   "metadata": {},
   "outputs": [
    {
     "name": "stdout",
     "output_type": "stream",
     "text": [
      "Setting seed: 0\n",
      "Running with stochastic_init:  True\n"
     ]
    },
    {
     "name": "stderr",
     "output_type": "stream",
     "text": [
      "/home/ksrini/.pyenv/versions/miniconda3-latest/envs/shac/lib/python3.8/site-packages/gym/logger.py:30: UserWarning: \u001b[33mWARN: Box bound precision lowered by casting to float32\u001b[0m\n",
      "  warnings.warn(colorize('%s: %s'%('WARN', msg % args), 'yellow'))\n"
     ]
    },
    {
     "name": "stdout",
     "output_type": "stream",
     "text": [
      "Module warp.sim.collide load on device 'cuda:0' took 38.45 ms\n",
      "Allocating 16 out of 16 potential rigid contacts\n",
      "Initializing renderer writing to path: outputs/CartPoleSwingUpEnv_1\n",
      "Loaded EGL 1.5 after reload.\n",
      "GL_VENDOR=NVIDIA Corporation\n",
      "GL_RENDERER=NVIDIA GeForce RTX 3090/PCIe/SSE2\n",
      "GL_VERSION=4.6.0 NVIDIA 520.61.05\n",
      "GL_SHADING_LANGUAGE_VERSION=4.60 NVIDIA\n",
      "Version = 4.6.0 NVIDIA 520.61.05\n",
      "Vendor = NVIDIA Corporation\n",
      "Renderer = NVIDIA GeForce RTX 3090/PCIe/SSE2\n",
      "num_envs =  1\n",
      "num_actions =  1\n",
      "num_obs =  5\n",
      "Sequential(\n",
      "  (0): Linear(in_features=5, out_features=64, bias=True)\n",
      "  (1): ELU(alpha=1.0)\n",
      "  (2): LayerNorm((64,), eps=1e-05, elementwise_affine=True)\n",
      "  (3): Linear(in_features=64, out_features=64, bias=True)\n",
      "  (4): ELU(alpha=1.0)\n",
      "  (5): LayerNorm((64,), eps=1e-05, elementwise_affine=True)\n",
      "  (6): Linear(in_features=64, out_features=1, bias=True)\n",
      "  (7): Identity()\n",
      ")\n",
      "Parameter containing:\n",
      "tensor([-1.], device='cuda:0', requires_grad=True)\n",
      "Sequential(\n",
      "  (0): Linear(in_features=5, out_features=64, bias=True)\n",
      "  (1): ELU(alpha=1.0)\n",
      "  (2): LayerNorm((64,), eps=1e-05, elementwise_affine=True)\n",
      "  (3): Linear(in_features=64, out_features=64, bias=True)\n",
      "  (4): ELU(alpha=1.0)\n",
      "  (5): LayerNorm((64,), eps=1e-05, elementwise_affine=True)\n",
      "  (6): Linear(in_features=64, out_features=1, bias=True)\n",
      ")\n"
     ]
    }
   ],
   "source": [
    "traj_opt = SHAC(cfg_train)"
   ]
  },
  {
   "cell_type": "code",
   "execution_count": 11,
   "id": "8329a469-8c72-42c5-8d65-6ab3ed04bdb5",
   "metadata": {},
   "outputs": [],
   "source": [
    "!mkdir outputs/videos"
   ]
  },
  {
   "cell_type": "code",
   "execution_count": 20,
   "id": "aa5de288-972d-4650-8d7e-6cafa7fe6ab8",
   "metadata": {},
   "outputs": [
    {
     "data": {
      "text/plain": [
       "\u001b[0;31mSignature:\u001b[0m \u001b[0mget_writer\u001b[0m\u001b[0;34m(\u001b[0m\u001b[0muri\u001b[0m\u001b[0;34m,\u001b[0m \u001b[0mformat\u001b[0m\u001b[0;34m=\u001b[0m\u001b[0;32mNone\u001b[0m\u001b[0;34m,\u001b[0m \u001b[0mmode\u001b[0m\u001b[0;34m=\u001b[0m\u001b[0;34m'?'\u001b[0m\u001b[0;34m,\u001b[0m \u001b[0;34m**\u001b[0m\u001b[0mkwargs\u001b[0m\u001b[0;34m)\u001b[0m\u001b[0;34m\u001b[0m\u001b[0;34m\u001b[0m\u001b[0m\n",
       "\u001b[0;31mDocstring:\u001b[0m\n",
       "get_writer(uri, format=None, mode='?', **kwargs)\n",
       "\n",
       "Returns a :class:`.Writer` object which can be used to write data\n",
       "and meta data to the specified file.\n",
       "\n",
       "Parameters\n",
       "----------\n",
       "uri : {str, pathlib.Path, file}\n",
       "    The resource to write the image to, e.g. a filename, pathlib.Path\n",
       "    or file object, see the docs for more info.\n",
       "format : str\n",
       "    The format to use to write the file. By default imageio selects\n",
       "    the appropriate for you based on the filename.\n",
       "mode : {'i', 'I', 'v', 'V', '?'}\n",
       "    Used to give the writer a hint on what the user expects (default '?'):\n",
       "    \"i\" for an image, \"I\" for multiple images, \"v\" for a volume,\n",
       "    \"V\" for multiple volumes, \"?\" for don't care.\n",
       "kwargs : ...\n",
       "    Further keyword arguments are passed to the writer. See :func:`.help`\n",
       "    to see what arguments are available for a particular format.\n",
       "\u001b[0;31mFile:\u001b[0m      ~/.pyenv/versions/miniconda3-latest/envs/shac/lib/python3.8/site-packages/imageio/core/functions.py\n",
       "\u001b[0;31mType:\u001b[0m      function\n"
      ]
     },
     "metadata": {},
     "output_type": "display_data"
    }
   ],
   "source": [
    "?get_writer"
   ]
  },
  {
   "cell_type": "code",
   "execution_count": 89,
   "id": "3bc20b3b-f4b7-467f-b87a-72cac861c985",
   "metadata": {},
   "outputs": [],
   "source": [
    "import os\n",
    "from imageio import get_writer\n",
    "\n",
    "class Monitor:\n",
    "    def __init__(self, env, save_dir, ep_filter=None):\n",
    "        self.env = env\n",
    "        assert self.env.render_mode == RenderMode.TINY\n",
    "        self.writer = None\n",
    "        self.save_dir = save_dir or \"./videos/\"\n",
    "        os.makedirs(self.save_dir, exist_ok=True)\n",
    "        self.ep_filter = ep_filter\n",
    "        self.num_episodes = 0\n",
    "        \n",
    "    def reset(self, *args, **kwargs):\n",
    "        ret = self.env.reset(*args, **kwargs)\n",
    "        self.env.renderer.move_camera(np.zeros(3), 5, 225, -20)  # resets default camera pose\n",
    "        if self.writer:\n",
    "            self.writer.close()\n",
    "        if self.ep_filter is None or self.ep_filter(self.num_episodes):\n",
    "            self.writer = get_writer(os.path.join(self.save_dir, f\"ep-{self.num_episodes}.mp4\"), fps=int(1/self.env.dt))\n",
    "        else:\n",
    "            self.writer = None\n",
    "        self.num_episodes += 1\n",
    "        return ret\n",
    "    \n",
    "    def step(self, action):\n",
    "        res = self.env.step(action)\n",
    "        if self.writer is not None:\n",
    "            self.render()\n",
    "        return res\n",
    "    \n",
    "    def render(self):\n",
    "        if self.writer is None:\n",
    "            return\n",
    "        img = self.env.render(mode=\"rgb_array\")\n",
    "        self.writer.append_data((255*img).astype(np.uint8))\n",
    "        return\n",
    "        \n",
    "    def __getattr__(self, name):\n",
    "        if name.startswith('_'):\n",
    "            raise AttributeError(\"attempted to get missing private attribute '{}'\".format(name))\n",
    "        return getattr(self.env, name)\n",
    "\n",
    "    def close(self):\n",
    "        self.env.close()\n",
    "        if self.writer is not None:\n",
    "            self.writer.close()"
   ]
  },
  {
   "cell_type": "code",
   "execution_count": 90,
   "id": "87cf4a6c-c59d-4040-86e4-bc748f552454",
   "metadata": {},
   "outputs": [],
   "source": [
    "env = Monitor(traj_opt.env.env, \"./outputs/videos\")"
   ]
  },
  {
   "cell_type": "code",
   "execution_count": 91,
   "id": "90f17a52-de8a-4a9b-a217-f5f5fe78cb9d",
   "metadata": {},
   "outputs": [],
   "source": [
    "traj_opt.env = env"
   ]
  },
  {
   "cell_type": "code",
   "execution_count": 92,
   "id": "919cf0ea-1a82-447d-8b86-7d3a5f45e907",
   "metadata": {},
   "outputs": [],
   "source": [
    "traj_opt.load(ckpt_path)"
   ]
  },
  {
   "cell_type": "code",
   "execution_count": 93,
   "id": "07b03251-fa7b-420c-8479-bf0edd52701e",
   "metadata": {},
   "outputs": [
    {
     "name": "stdout",
     "output_type": "stream",
     "text": [
      "loss = 886.66, len = 240\n",
      "loss = 206037.48, len = 240\n",
      "loss = 38344.06, len = 240\n",
      "loss = 11525.76, len = 240\n",
      "loss = 1070.44, len = 240\n",
      "loss = 8177.70, len = 240\n",
      "loss = 2404.74, len = 240\n",
      "loss = 927.82, len = 240\n",
      "loss = 2369.29, len = 240\n",
      "loss = 12297.32, len = 240\n"
     ]
    }
   ],
   "source": [
    "for _ in range(10):\n",
    "    # env.reset()\n",
    "    traj_opt.evaluate_policy(1)"
   ]
  },
  {
   "cell_type": "code",
   "execution_count": 84,
   "id": "f55cd3ab-8fa4-41d7-879d-c0b8ebc7e7f1",
   "metadata": {},
   "outputs": [],
   "source": [
    "from IPython.display import Video"
   ]
  },
  {
   "cell_type": "code",
   "execution_count": 88,
   "id": "1fd9acfb-180b-4146-bad4-4f4679d11daf",
   "metadata": {},
   "outputs": [
    {
     "data": {
      "text/html": [
       "<video src=\"./outputs/videos/ep-13.mp4\" controls  >\n",
       "      Your browser does not support the <code>video</code> element.\n",
       "    </video>"
      ],
      "text/plain": [
       "<IPython.core.display.Video object>"
      ]
     },
     "execution_count": 88,
     "metadata": {},
     "output_type": "execute_result"
    }
   ],
   "source": [
    "Video(\"./outputs/videos/ep-13.mp4\")"
   ]
  }
 ],
 "metadata": {
  "kernelspec": {
   "display_name": "Python 3",
   "language": "python",
   "name": "python3"
  },
  "language_info": {
   "codemirror_mode": {
    "name": "ipython",
    "version": 3
   },
   "file_extension": ".py",
   "mimetype": "text/x-python",
   "name": "python",
   "nbconvert_exporter": "python",
   "pygments_lexer": "ipython3",
   "version": "3.8.13"
  }
 },
 "nbformat": 4,
 "nbformat_minor": 5
}
